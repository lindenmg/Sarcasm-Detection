{
 "cells": [
  {
   "cell_type": "code",
   "execution_count": null,
   "metadata": {},
   "outputs": [],
   "source": [
    "import os\n",
    "\n",
    "path = os.path.realpath(os.path.join('..', '..'))\n",
    "os.chdir(path)\n",
    "\n",
    "import pandas as pd\n",
    "import numpy as np\n",
    "import spacy\n",
    "from gensim.models import Phrases\n",
    "from gensim.models.phrases import Phraser\n",
    "from spacy.tokens import Token\n",
    "\n",
    "from src.preprocessing.preprocessing import Preprocessing\n"
   ]
  },
  {
   "cell_type": "code",
   "execution_count": null,
   "metadata": {},
   "outputs": [],
   "source": [
    "nlp = spacy.load('en_core_web_md')"
   ]
  },
  {
   "cell_type": "code",
   "execution_count": null,
   "metadata": {},
   "outputs": [],
   "source": [
    "preprocessing = Preprocessing()\n",
    "preprocessing.load_train_test('../../data/')"
   ]
  },
  {
   "cell_type": "code",
   "execution_count": null,
   "metadata": {},
   "outputs": [],
   "source": [
    "train = preprocessing.get_train_df(deep_copy=True)"
   ]
  },
  {
   "cell_type": "markdown",
   "metadata": {},
   "source": [
    "##### Data-Cleaning: Swap &amp; HTML tag with 'and'"
   ]
  },
  {
   "cell_type": "code",
   "execution_count": null,
   "metadata": {},
   "outputs": [],
   "source": [
    "print(train['post'].apply(lambda s: '&amp;' in s).sum())\n",
    "print(train['reply'].apply(lambda s: '&amp;' in s).sum())"
   ]
  },
  {
   "cell_type": "code",
   "execution_count": null,
   "metadata": {},
   "outputs": [],
   "source": [
    "train['post'] = train['post'].map(lambda s: s.replace('&amp;', 'and'))\n",
    "train['reply'] = train['reply'].map(lambda s: s.replace('&amp;', 'and'))"
   ]
  },
  {
   "cell_type": "code",
   "execution_count": null,
   "metadata": {},
   "outputs": [],
   "source": [
    "print(train['post'].apply(lambda s: '&amp;' in s).sum())\n",
    "print(train['reply'].apply(lambda s: '&amp;' in s).sum())"
   ]
  },
  {
   "cell_type": "markdown",
   "metadata": {},
   "source": [
    "##### Data-preprocessing with Spacy"
   ]
  },
  {
   "cell_type": "code",
   "execution_count": null,
   "metadata": {},
   "outputs": [],
   "source": [
    "with open('../../data/stop_words_cut.txt', 'r') as f:\n",
    "    stop_words = set(line.strip() for line in f)"
   ]
  },
  {
   "cell_type": "code",
   "execution_count": null,
   "metadata": {},
   "outputs": [],
   "source": [
    "def is_stop_word(token):\n",
    "    return token.is_stop or (token.lower_ in stop_words) or (token.lemma_ in stop_words)\n",
    "\n",
    "\n",
    "Token.set_extension('is_stop', getter=is_stop_word)"
   ]
  },
  {
   "cell_type": "code",
   "execution_count": null,
   "metadata": {},
   "outputs": [],
   "source": [
    "%%time\n",
    "doc_post_list = [doc for doc in nlp.pipe(train['post'][0::2], n_threads=-1, batch_size=500)]\n",
    "doc_reply_list = [doc for doc in nlp.pipe(train['reply'], n_threads=-1, batch_size=500)]"
   ]
  },
  {
   "cell_type": "code",
   "execution_count": null,
   "metadata": {},
   "outputs": [],
   "source": [
    "def lemmatized_doc_corpus(doc_list):\n",
    "    for doc in doc_list:\n",
    "        yield u' '.join([token.lemma_ for token in doc if not (token.is_punct or token.is_space)])"
   ]
  },
  {
   "cell_type": "code",
   "execution_count": null,
   "metadata": {},
   "outputs": [],
   "source": [
    "%%time\n",
    "doc_list = doc_post_list + doc_reply_list\n",
    "assert len(doc_list) == (len(doc_post_list) + len(doc_reply_list))\n",
    "unigram_docs = np.asarray([doc for doc in lemmatized_doc_corpus(doc_list)])"
   ]
  },
  {
   "cell_type": "code",
   "execution_count": null,
   "metadata": {},
   "outputs": [],
   "source": [
    "unigram_docs"
   ]
  },
  {
   "cell_type": "code",
   "execution_count": null,
   "metadata": {},
   "outputs": [],
   "source": [
    "%%time\n",
    "bigram_model = Phrases(unigram_docs, scoring='default', threshold=5)"
   ]
  },
  {
   "cell_type": "code",
   "execution_count": null,
   "metadata": {},
   "outputs": [],
   "source": [
    "%%time\n",
    "bigram_model = Phraser(bigram_model)\n",
    "bigram_docs = [u''.join(bigram_model[doc]) for doc in unigram_docs]"
   ]
  },
  {
   "cell_type": "code",
   "execution_count": null,
   "metadata": {},
   "outputs": [],
   "source": [
    "bigram_docs"
   ]
  },
  {
   "cell_type": "code",
   "execution_count": null,
   "metadata": {},
   "outputs": [],
   "source": [
    "bi_phrases = pd.DataFrame(bigram_docs, columns=['text'])['text'].str.extract(r'(\\w+_\\w+)',\n",
    "                                                                             expand=False).dropna().tolist()"
   ]
  },
  {
   "cell_type": "code",
   "execution_count": null,
   "metadata": {},
   "outputs": [],
   "source": [
    "print(\"Phrase-count:   \", len(bi_phrases))\n",
    "print(\"Unique phrases: \", len(set(bi_phrases)))"
   ]
  },
  {
   "cell_type": "code",
   "execution_count": null,
   "metadata": {},
   "outputs": [],
   "source": [
    "set(bi_phrases)"
   ]
  },
  {
   "cell_type": "markdown",
   "metadata": {},
   "source": [
    "The point-wise mutual information scoring function did use n-grams or it was a bug. Not useful either."
   ]
  }
 ],
 "metadata": {
  "kernelspec": {
   "display_name": "Python3_Jupyter",
   "language": "python",
   "name": "python3_jupyter"
  },
  "language_info": {
   "codemirror_mode": {
    "name": "ipython",
    "version": 3
   },
   "file_extension": ".py",
   "mimetype": "text/x-python",
   "name": "python",
   "nbconvert_exporter": "python",
   "pygments_lexer": "ipython3",
   "version": "3.5.3"
  }
 },
 "nbformat": 4,
 "nbformat_minor": 2
}
