{
 "cells": [
  {
   "cell_type": "code",
   "execution_count": 34,
   "metadata": {
    "_cell_guid": "d3cb1c42-90ba-9674-0e72-0b4ee496fa42"
   },
   "outputs": [],
   "source": [
    "import warnings\n",
    "\n",
    "warnings.filterwarnings('ignore')\n",
    "\n",
    "import os\n",
    "import torch\n",
    "import numpy as np\n",
    "import pandas as pd\n",
    "from pathlib import Path\n",
    "\n",
    "path = os.path.realpath(os.path.join('..', '..'))\n",
    "os.chdir(path)\n",
    "\n",
    "from sklearn.ensemble import RandomForestClassifier, VotingClassifier, ExtraTreesClassifier\n",
    "from sklearn.linear_model import LogisticRegression\n",
    "\n",
    "from sklearn.model_selection import StratifiedKFold\n",
    "from sklearn.model_selection import GridSearchCV\n",
    "\n",
    "import matplotlib as mpl\n",
    "import matplotlib.pyplot as plt\n",
    "import matplotlib.pylab as pylab\n",
    "import seaborn as sns\n",
    "\n",
    "from src.preprocessing.preprocessing import Preprocessing\n",
    "from src.tools.config import Config"
   ]
  },
  {
   "cell_type": "markdown",
   "metadata": {},
   "source": [
    "## 1 Config"
   ]
  },
  {
   "cell_type": "code",
   "execution_count": 2,
   "metadata": {},
   "outputs": [],
   "source": [
    "seed = 87076143\n",
    "np.random.seed(seed)\n",
    "\n",
    "%matplotlib inline\n",
    "mpl.style.use('ggplot')\n",
    "sns.set_style('white')\n",
    "pylab.rcParams['figure.figsize'] = 8, 6\n",
    "\n",
    "cpu_threads = Config.hardware.n_cpu\n",
    "has_cuda = torch.cuda.is_available()\n",
    "train_mode = True\n",
    "test_mode = True\n",
    "\n",
    "pp = Preprocessing()"
   ]
  },
  {
   "cell_type": "markdown",
   "metadata": {},
   "source": [
    "**To accelerate RandomForestClassifier & ExtraTreesClassifier execute this in a terminal:**"
   ]
  },
  {
   "cell_type": "code",
   "execution_count": 3,
   "metadata": {},
   "outputs": [],
   "source": [
    "# Of course without the '#' and cpu_threads the number of threads you want to use\n",
    "# export OPENBLAS_NUM_THREADS=cpu_threads\n",
    "# export GOTO_NUM_THREADS=cpu_threads\n",
    "# export OMP_NUM_THREADS=cpu_threads"
   ]
  },
  {
   "cell_type": "markdown",
   "metadata": {
    "_cell_guid": "cb44cb03-a5be-653d-34bf-f1e7eba133a4"
   },
   "source": [
    "### 1.1 Setup helper Functions"
   ]
  },
  {
   "cell_type": "code",
   "execution_count": 4,
   "metadata": {
    "_cell_guid": "0bb8cf49-d080-46a7-2c66-fa967ad4db97"
   },
   "outputs": [],
   "source": [
    "def plot_correlation_map(df):\n",
    "    corr = df.corr()\n",
    "    _, ax = plt.subplots(figsize=(25, 20))\n",
    "    _ = sns.heatmap(\n",
    "        corr,\n",
    "        #square=True, \n",
    "        cbar_kws={'shrink': .9},\n",
    "        ax=ax,\n",
    "        annot=True,\n",
    "        annot_kws={'fontsize': 12}\n",
    "    )"
   ]
  },
  {
   "cell_type": "markdown",
   "metadata": {
    "_cell_guid": "ea8b0e99-e512-f1f5-ed3d-e7df876b9bed"
   },
   "source": [
    "## 2.2 Load Data"
   ]
  },
  {
   "cell_type": "code",
   "execution_count": 5,
   "metadata": {
    "_cell_guid": "ee2677e2-b78b-250b-a908-816109e3ab91"
   },
   "outputs": [],
   "source": [
    "data_folder = Path(Config.path.data_folder)\n",
    "train_file = data_folder / \"features_train_i.csv\"\n",
    "test_file = data_folder / \"features_test_i.csv\"\n",
    "train = pd.read_csv(str(train_file))\n",
    "test = pd.read_csv(str(test_file))"
   ]
  },
  {
   "cell_type": "markdown",
   "metadata": {
    "_cell_guid": "76852c59-23bf-55b6-5b6d-f672c97114ae"
   },
   "source": [
    "## 2.3 Data overview"
   ]
  },
  {
   "cell_type": "code",
   "execution_count": 8,
   "metadata": {
    "_cell_guid": "60d5efad-7649-c1e8-3cae-59bf562e8457"
   },
   "outputs": [
    {
     "data": {
      "text/html": [
       "<div>\n",
       "<style scoped>\n",
       "    .dataframe tbody tr th:only-of-type {\n",
       "        vertical-align: middle;\n",
       "    }\n",
       "\n",
       "    .dataframe tbody tr th {\n",
       "        vertical-align: top;\n",
       "    }\n",
       "\n",
       "    .dataframe thead th {\n",
       "        text-align: right;\n",
       "    }\n",
       "</style>\n",
       "<table border=\"1\" class=\"dataframe\">\n",
       "  <thead>\n",
       "    <tr style=\"text-align: right;\">\n",
       "      <th></th>\n",
       "      <th>0</th>\n",
       "      <th>1</th>\n",
       "      <th>2</th>\n",
       "      <th>3</th>\n",
       "      <th>4</th>\n",
       "      <th>5</th>\n",
       "      <th>6</th>\n",
       "      <th>7</th>\n",
       "      <th>8</th>\n",
       "      <th>9</th>\n",
       "      <th>10</th>\n",
       "      <th>11</th>\n",
       "      <th>12</th>\n",
       "      <th>13</th>\n",
       "      <th>label</th>\n",
       "    </tr>\n",
       "  </thead>\n",
       "  <tbody>\n",
       "    <tr>\n",
       "      <th>0</th>\n",
       "      <td>1.122646</td>\n",
       "      <td>1.333742</td>\n",
       "      <td>4.064393</td>\n",
       "      <td>1.519819</td>\n",
       "      <td>0.446206</td>\n",
       "      <td>0.424013</td>\n",
       "      <td>2.321279</td>\n",
       "      <td>0.476424</td>\n",
       "      <td>0.812524</td>\n",
       "      <td>1.659822</td>\n",
       "      <td>0.433983</td>\n",
       "      <td>0.605229</td>\n",
       "      <td>0.112734</td>\n",
       "      <td>0.463859</td>\n",
       "      <td>1.0</td>\n",
       "    </tr>\n",
       "    <tr>\n",
       "      <th>1</th>\n",
       "      <td>1.434266</td>\n",
       "      <td>1.363666</td>\n",
       "      <td>2.314129</td>\n",
       "      <td>1.943999</td>\n",
       "      <td>0.866211</td>\n",
       "      <td>0.424013</td>\n",
       "      <td>2.645380</td>\n",
       "      <td>2.610151</td>\n",
       "      <td>0.500365</td>\n",
       "      <td>3.016007</td>\n",
       "      <td>1.636214</td>\n",
       "      <td>0.605229</td>\n",
       "      <td>4.374885</td>\n",
       "      <td>0.463859</td>\n",
       "      <td>0.0</td>\n",
       "    </tr>\n",
       "    <tr>\n",
       "      <th>2</th>\n",
       "      <td>2.396700</td>\n",
       "      <td>2.235687</td>\n",
       "      <td>2.593910</td>\n",
       "      <td>0.975416</td>\n",
       "      <td>0.869074</td>\n",
       "      <td>0.020682</td>\n",
       "      <td>2.993066</td>\n",
       "      <td>2.077382</td>\n",
       "      <td>1.318195</td>\n",
       "      <td>3.310964</td>\n",
       "      <td>1.450780</td>\n",
       "      <td>0.249506</td>\n",
       "      <td>2.493100</td>\n",
       "      <td>2.733438</td>\n",
       "      <td>0.0</td>\n",
       "    </tr>\n",
       "    <tr>\n",
       "      <th>3</th>\n",
       "      <td>2.407352</td>\n",
       "      <td>1.728553</td>\n",
       "      <td>3.409448</td>\n",
       "      <td>2.167990</td>\n",
       "      <td>0.779269</td>\n",
       "      <td>0.300677</td>\n",
       "      <td>5.197195</td>\n",
       "      <td>0.309889</td>\n",
       "      <td>0.890287</td>\n",
       "      <td>2.269082</td>\n",
       "      <td>0.537086</td>\n",
       "      <td>0.536786</td>\n",
       "      <td>1.242502</td>\n",
       "      <td>0.470712</td>\n",
       "      <td>1.0</td>\n",
       "    </tr>\n",
       "    <tr>\n",
       "      <th>4</th>\n",
       "      <td>1.062646</td>\n",
       "      <td>1.372674</td>\n",
       "      <td>3.550878</td>\n",
       "      <td>2.092583</td>\n",
       "      <td>1.554236</td>\n",
       "      <td>0.971095</td>\n",
       "      <td>2.042542</td>\n",
       "      <td>1.798505</td>\n",
       "      <td>1.344919</td>\n",
       "      <td>1.918058</td>\n",
       "      <td>0.381050</td>\n",
       "      <td>0.843711</td>\n",
       "      <td>1.939142</td>\n",
       "      <td>0.396581</td>\n",
       "      <td>1.0</td>\n",
       "    </tr>\n",
       "  </tbody>\n",
       "</table>\n",
       "</div>"
      ],
      "text/plain": [
       "          0         1         2         3         4         5         6  \\\n",
       "0  1.122646  1.333742  4.064393  1.519819  0.446206  0.424013  2.321279   \n",
       "1  1.434266  1.363666  2.314129  1.943999  0.866211  0.424013  2.645380   \n",
       "2  2.396700  2.235687  2.593910  0.975416  0.869074  0.020682  2.993066   \n",
       "3  2.407352  1.728553  3.409448  2.167990  0.779269  0.300677  5.197195   \n",
       "4  1.062646  1.372674  3.550878  2.092583  1.554236  0.971095  2.042542   \n",
       "\n",
       "          7         8         9        10        11        12        13  label  \n",
       "0  0.476424  0.812524  1.659822  0.433983  0.605229  0.112734  0.463859    1.0  \n",
       "1  2.610151  0.500365  3.016007  1.636214  0.605229  4.374885  0.463859    0.0  \n",
       "2  2.077382  1.318195  3.310964  1.450780  0.249506  2.493100  2.733438    0.0  \n",
       "3  0.309889  0.890287  2.269082  0.537086  0.536786  1.242502  0.470712    1.0  \n",
       "4  1.798505  1.344919  1.918058  0.381050  0.843711  1.939142  0.396581    1.0  "
      ]
     },
     "execution_count": 8,
     "metadata": {},
     "output_type": "execute_result"
    }
   ],
   "source": [
    "train.head()"
   ]
  },
  {
   "cell_type": "code",
   "execution_count": 9,
   "metadata": {
    "_cell_guid": "88c8b958-0973-d27e-d463-58fada41900e"
   },
   "outputs": [
    {
     "data": {
      "text/html": [
       "<div>\n",
       "<style scoped>\n",
       "    .dataframe tbody tr th:only-of-type {\n",
       "        vertical-align: middle;\n",
       "    }\n",
       "\n",
       "    .dataframe tbody tr th {\n",
       "        vertical-align: top;\n",
       "    }\n",
       "\n",
       "    .dataframe thead th {\n",
       "        text-align: right;\n",
       "    }\n",
       "</style>\n",
       "<table border=\"1\" class=\"dataframe\">\n",
       "  <thead>\n",
       "    <tr style=\"text-align: right;\">\n",
       "      <th></th>\n",
       "      <th>0</th>\n",
       "      <th>1</th>\n",
       "      <th>2</th>\n",
       "      <th>3</th>\n",
       "      <th>4</th>\n",
       "      <th>5</th>\n",
       "      <th>6</th>\n",
       "      <th>7</th>\n",
       "      <th>8</th>\n",
       "      <th>9</th>\n",
       "      <th>10</th>\n",
       "      <th>11</th>\n",
       "      <th>12</th>\n",
       "      <th>13</th>\n",
       "      <th>label</th>\n",
       "    </tr>\n",
       "  </thead>\n",
       "  <tbody>\n",
       "    <tr>\n",
       "      <th>count</th>\n",
       "      <td>196526.000000</td>\n",
       "      <td>196526.000000</td>\n",
       "      <td>196526.000000</td>\n",
       "      <td>196526.000000</td>\n",
       "      <td>196526.000000</td>\n",
       "      <td>196526.000000</td>\n",
       "      <td>196526.000000</td>\n",
       "      <td>196526.000000</td>\n",
       "      <td>196526.000000</td>\n",
       "      <td>196526.000000</td>\n",
       "      <td>196526.000000</td>\n",
       "      <td>196526.000000</td>\n",
       "      <td>196526.000000</td>\n",
       "      <td>196526.000000</td>\n",
       "      <td>196526.000000</td>\n",
       "    </tr>\n",
       "    <tr>\n",
       "      <th>mean</th>\n",
       "      <td>1.225939</td>\n",
       "      <td>0.962938</td>\n",
       "      <td>2.826252</td>\n",
       "      <td>1.562816</td>\n",
       "      <td>0.823232</td>\n",
       "      <td>0.666422</td>\n",
       "      <td>2.701471</td>\n",
       "      <td>2.793522</td>\n",
       "      <td>0.993222</td>\n",
       "      <td>2.400832</td>\n",
       "      <td>0.870907</td>\n",
       "      <td>0.791543</td>\n",
       "      <td>2.702771</td>\n",
       "      <td>1.171241</td>\n",
       "      <td>0.500000</td>\n",
       "    </tr>\n",
       "    <tr>\n",
       "      <th>std</th>\n",
       "      <td>0.870911</td>\n",
       "      <td>0.897603</td>\n",
       "      <td>1.301374</td>\n",
       "      <td>0.745267</td>\n",
       "      <td>0.359468</td>\n",
       "      <td>0.357246</td>\n",
       "      <td>1.189679</td>\n",
       "      <td>1.813804</td>\n",
       "      <td>0.996560</td>\n",
       "      <td>0.945673</td>\n",
       "      <td>0.534602</td>\n",
       "      <td>0.531769</td>\n",
       "      <td>2.207784</td>\n",
       "      <td>0.772058</td>\n",
       "      <td>0.500001</td>\n",
       "    </tr>\n",
       "    <tr>\n",
       "      <th>min</th>\n",
       "      <td>-2.347282</td>\n",
       "      <td>-2.213404</td>\n",
       "      <td>-0.887716</td>\n",
       "      <td>-1.947555</td>\n",
       "      <td>-0.280180</td>\n",
       "      <td>-2.115055</td>\n",
       "      <td>-0.447965</td>\n",
       "      <td>-1.392575</td>\n",
       "      <td>-1.162015</td>\n",
       "      <td>-1.129003</td>\n",
       "      <td>-2.730874</td>\n",
       "      <td>-1.868317</td>\n",
       "      <td>-0.578030</td>\n",
       "      <td>-1.476681</td>\n",
       "      <td>0.000000</td>\n",
       "    </tr>\n",
       "    <tr>\n",
       "      <th>25%</th>\n",
       "      <td>0.685419</td>\n",
       "      <td>0.419191</td>\n",
       "      <td>1.997383</td>\n",
       "      <td>0.817105</td>\n",
       "      <td>0.660836</td>\n",
       "      <td>0.430129</td>\n",
       "      <td>1.928992</td>\n",
       "      <td>1.631034</td>\n",
       "      <td>0.505430</td>\n",
       "      <td>1.809445</td>\n",
       "      <td>0.511211</td>\n",
       "      <td>0.587905</td>\n",
       "      <td>1.047637</td>\n",
       "      <td>0.617065</td>\n",
       "      <td>0.000000</td>\n",
       "    </tr>\n",
       "    <tr>\n",
       "      <th>50%</th>\n",
       "      <td>1.214966</td>\n",
       "      <td>1.019930</td>\n",
       "      <td>2.621802</td>\n",
       "      <td>1.904964</td>\n",
       "      <td>0.796528</td>\n",
       "      <td>0.633883</td>\n",
       "      <td>2.643751</td>\n",
       "      <td>2.459398</td>\n",
       "      <td>0.723138</td>\n",
       "      <td>2.228544</td>\n",
       "      <td>0.744143</td>\n",
       "      <td>0.697809</td>\n",
       "      <td>2.185762</td>\n",
       "      <td>0.968300</td>\n",
       "      <td>0.500000</td>\n",
       "    </tr>\n",
       "    <tr>\n",
       "      <th>75%</th>\n",
       "      <td>1.776718</td>\n",
       "      <td>1.566869</td>\n",
       "      <td>3.369881</td>\n",
       "      <td>2.196859</td>\n",
       "      <td>0.971354</td>\n",
       "      <td>0.865491</td>\n",
       "      <td>3.423146</td>\n",
       "      <td>3.718671</td>\n",
       "      <td>1.054868</td>\n",
       "      <td>2.908694</td>\n",
       "      <td>1.096946</td>\n",
       "      <td>0.828235</td>\n",
       "      <td>3.545369</td>\n",
       "      <td>1.578456</td>\n",
       "      <td>1.000000</td>\n",
       "    </tr>\n",
       "    <tr>\n",
       "      <th>max</th>\n",
       "      <td>5.277227</td>\n",
       "      <td>4.872844</td>\n",
       "      <td>8.465793</td>\n",
       "      <td>4.665638</td>\n",
       "      <td>6.272193</td>\n",
       "      <td>6.362071</td>\n",
       "      <td>9.926394</td>\n",
       "      <td>16.488726</td>\n",
       "      <td>11.719955</td>\n",
       "      <td>6.674792</td>\n",
       "      <td>8.066112</td>\n",
       "      <td>9.129678</td>\n",
       "      <td>16.945679</td>\n",
       "      <td>7.830724</td>\n",
       "      <td>1.000000</td>\n",
       "    </tr>\n",
       "  </tbody>\n",
       "</table>\n",
       "</div>"
      ],
      "text/plain": [
       "                   0              1              2              3  \\\n",
       "count  196526.000000  196526.000000  196526.000000  196526.000000   \n",
       "mean        1.225939       0.962938       2.826252       1.562816   \n",
       "std         0.870911       0.897603       1.301374       0.745267   \n",
       "min        -2.347282      -2.213404      -0.887716      -1.947555   \n",
       "25%         0.685419       0.419191       1.997383       0.817105   \n",
       "50%         1.214966       1.019930       2.621802       1.904964   \n",
       "75%         1.776718       1.566869       3.369881       2.196859   \n",
       "max         5.277227       4.872844       8.465793       4.665638   \n",
       "\n",
       "                   4              5              6              7  \\\n",
       "count  196526.000000  196526.000000  196526.000000  196526.000000   \n",
       "mean        0.823232       0.666422       2.701471       2.793522   \n",
       "std         0.359468       0.357246       1.189679       1.813804   \n",
       "min        -0.280180      -2.115055      -0.447965      -1.392575   \n",
       "25%         0.660836       0.430129       1.928992       1.631034   \n",
       "50%         0.796528       0.633883       2.643751       2.459398   \n",
       "75%         0.971354       0.865491       3.423146       3.718671   \n",
       "max         6.272193       6.362071       9.926394      16.488726   \n",
       "\n",
       "                   8              9             10             11  \\\n",
       "count  196526.000000  196526.000000  196526.000000  196526.000000   \n",
       "mean        0.993222       2.400832       0.870907       0.791543   \n",
       "std         0.996560       0.945673       0.534602       0.531769   \n",
       "min        -1.162015      -1.129003      -2.730874      -1.868317   \n",
       "25%         0.505430       1.809445       0.511211       0.587905   \n",
       "50%         0.723138       2.228544       0.744143       0.697809   \n",
       "75%         1.054868       2.908694       1.096946       0.828235   \n",
       "max        11.719955       6.674792       8.066112       9.129678   \n",
       "\n",
       "                  12             13          label  \n",
       "count  196526.000000  196526.000000  196526.000000  \n",
       "mean        2.702771       1.171241       0.500000  \n",
       "std         2.207784       0.772058       0.500001  \n",
       "min        -0.578030      -1.476681       0.000000  \n",
       "25%         1.047637       0.617065       0.000000  \n",
       "50%         2.185762       0.968300       0.500000  \n",
       "75%         3.545369       1.578456       1.000000  \n",
       "max        16.945679       7.830724       1.000000  "
      ]
     },
     "execution_count": 9,
     "metadata": {},
     "output_type": "execute_result"
    }
   ],
   "source": [
    "train.describe()"
   ]
  },
  {
   "cell_type": "markdown",
   "metadata": {
    "_cell_guid": "c006f42b-cba3-7109-92fb-79676f726afb"
   },
   "source": [
    "### 2.4 Heat map of feature correlation\n",
    "**This might be interesting although we don't know anything about the purpose of the indivual features:**"
   ]
  },
  {
   "cell_type": "code",
   "execution_count": 10,
   "metadata": {
    "_cell_guid": "84418f3e-32ab-7a6c-a60e-6d45760ee666"
   },
   "outputs": [
    {
     "data": {
      "image/png": "[encoded data removed]",
      "text/plain": [
       "<matplotlib.figure.Figure at 0x7f4d827879e8>"
      ]
     },
     "metadata": {},
     "output_type": "display_data"
    }
   ],
   "source": [
    "plot_correlation_map(train)"
   ]
  },
  {
   "cell_type": "markdown",
   "metadata": {
    "_cell_guid": "c9888e98-091a-d98c-6ccf-b733a4f0d941"
   },
   "source": [
    "# 3. Data Preparation"
   ]
  },
  {
   "cell_type": "markdown",
   "metadata": {},
   "source": [
    "## 3.1 Normalization & Label"
   ]
  },
  {
   "cell_type": "code",
   "execution_count": 11,
   "metadata": {},
   "outputs": [],
   "source": [
    "# This has the disadvantage, that the whole train-set is normalized \n",
    "# and not the individual folds for k-fold CV.\n",
    "# Which leads to some overfitting because the distribution was calculated with regard to the whole set\n",
    "train_norm = train.copy(deep=True)\n",
    "test_norm = test.copy(deep=True)\n",
    "train_label = train_norm['label']\n",
    "test_label = test_norm['label']\n",
    "train_norm.drop(['label'], axis=1, inplace=True)\n",
    "test_norm.drop(['label'], axis=1, inplace=True)\n",
    "train_norm = pp.normalize_np_array(train_norm.values)\n",
    "test_norm = pp.normalize_np_array(test_norm.values)"
   ]
  },
  {
   "cell_type": "code",
   "execution_count": 12,
   "metadata": {},
   "outputs": [],
   "source": [
    "header = train.columns.values.tolist()\n",
    "header = header[0:-1]\n",
    "train_norm = pd.DataFrame(data=train_norm, columns=header)\n",
    "test_norm = pd.DataFrame(data=test_norm, columns=header)"
   ]
  },
  {
   "cell_type": "markdown",
   "metadata": {},
   "source": [
    "## 3.2 K-fold Cross Validation"
   ]
  },
  {
   "cell_type": "code",
   "execution_count": 13,
   "metadata": {},
   "outputs": [],
   "source": [
    "# This will retain the same percentage of the classes in the folds\n",
    "skf_cv_iter = StratifiedKFold(n_splits=9, shuffle=True, random_state=seed)"
   ]
  },
  {
   "cell_type": "markdown",
   "metadata": {
    "_cell_guid": "84f76826-572a-e65d-7dd7-cd3791bf5237"
   },
   "source": [
    "# 4. Grid Search - Parameter Definition\n",
    "\n",
    "## 4.1 CatBoost"
   ]
  },
  {
   "cell_type": "code",
   "execution_count": 14,
   "metadata": {},
   "outputs": [],
   "source": [
    "# params_grid_cb = {\n",
    "#     'max_depth': [4],\n",
    "#     'n_estimators': np.linspace(16, 50, 18, dtype=np.int),\n",
    "#     'learning_rate': np.concatenate([np.linspace(0.01, 0.07, 7)\n",
    "#                                      , np.linspace(0.1, 0.9, 17)]),\n",
    "# #      'subsample': np.linspace(0.7, 1.0, 7),\n",
    "# #      'colsample_bytree': np.linspace(0.55, 0.85, 7)\n",
    "# }\n",
    "# params_grid_cb = {\n",
    "#     'max_depth': [4],\n",
    "#     'n_estimators': [26],\n",
    "#     'learning_rate': [0.25],\n",
    "#     'subsample': [0.8],\n",
    "#     'colsample_bytree': [0.7]\n",
    "# }\n"
   ]
  },
  {
   "cell_type": "code",
   "execution_count": 15,
   "metadata": {},
   "outputs": [],
   "source": [
    "# params_fixed_cb = {\n",
    "#     'objective': 'binary:logistic',\n",
    "#     'silent': 1,\n",
    "#     'missing': -1,\n",
    "#     'seed': seed,\n",
    "#     'nthread': cpu_threads\n",
    "# }\n"
   ]
  },
  {
   "cell_type": "markdown",
   "metadata": {},
   "source": [
    "## 4.2 Random Forest"
   ]
  },
  {
   "cell_type": "code",
   "execution_count": 16,
   "metadata": {},
   "outputs": [],
   "source": [
    "max_feature_count = len(train_norm.columns.values)\n",
    "max_features = [int(round(np.sqrt(max_feature_count)))\n",
    "    , int(round(np.log2(max_feature_count)))\n",
    "    , max_feature_count // 2\n",
    "    , int(round(max_feature_count * 3 / 4))\n",
    "    , max_feature_count]\n",
    "max_features = list(set(max_features))\n",
    "params_grid_rf = {\n",
    "    'max_depth': [3, 5, 8, max_feature_count],\n",
    "    'n_estimators': [5, 10, 25, 50, 75, 100],\n",
    "    'max_features': max_features,\n",
    "    'bootstrap': [True],\n",
    "    'oob_score': [True]\n",
    "}\n",
    "# params_grid_et = {\n",
    "#     'max_depth': [14],\n",
    "#     'n_estimators': [100],\n",
    "#     'max_features': [4],\n",
    "#     'bootstrap': [True],\n",
    "#     'oob_score': [True]\n",
    "# }"
   ]
  },
  {
   "cell_type": "code",
   "execution_count": 17,
   "metadata": {},
   "outputs": [],
   "source": [
    "params_fixed_rf = {\n",
    "    'verbose': 0,\n",
    "    'random_state': seed,\n",
    "    'n_jobs': cpu_threads\n",
    "}"
   ]
  },
  {
   "cell_type": "markdown",
   "metadata": {},
   "source": [
    "## 4.3 Extremely Randomized Trees"
   ]
  },
  {
   "cell_type": "code",
   "execution_count": 18,
   "metadata": {},
   "outputs": [],
   "source": [
    "params_grid_et = {\n",
    "    'max_depth': [3, 5, 8, max_feature_count],\n",
    "    'n_estimators': [5, 10, 25, 50, 75, 100],\n",
    "    'max_features': max_features,\n",
    "    'bootstrap': [True],\n",
    "    'oob_score': [True]\n",
    "}\n",
    "# params_grid_et = {\n",
    "#     'max_depth': [14],\n",
    "#     'n_estimators': [100],\n",
    "#     'max_features': [14],\n",
    "#     'bootstrap': [True],\n",
    "#     'oob_score': [True]\n",
    "# }"
   ]
  },
  {
   "cell_type": "code",
   "execution_count": 19,
   "metadata": {},
   "outputs": [],
   "source": [
    "params_fixed_et = {\n",
    "    'verbose': 0,\n",
    "    'random_state': seed,\n",
    "    'n_jobs': cpu_threads\n",
    "}"
   ]
  },
  {
   "cell_type": "markdown",
   "metadata": {},
   "source": [
    "## 4.4 Logistic Regression"
   ]
  },
  {
   "cell_type": "code",
   "execution_count": 20,
   "metadata": {},
   "outputs": [],
   "source": [
    "regularisation_list_lr = [0.001, 0.01, 0.1, 1, 10, 100]\n",
    "params_grid_lr = {\n",
    "    'penalty': ['l1', 'l2'],\n",
    "    'C': regularisation_list_lr,\n",
    "    'class_weight': [None, 'balanced'],\n",
    "    'solver': ['liblinear'],\n",
    "}\n",
    "# params_grid_lr = {\n",
    "#     'penalty': ['l2'],\n",
    "#     'C': [0.01],\n",
    "#     'class_weight': [None],\n",
    "#     'solver': ['liblinear']\n",
    "# }"
   ]
  },
  {
   "cell_type": "code",
   "execution_count": 21,
   "metadata": {},
   "outputs": [],
   "source": [
    "params_fixed_lr = {\n",
    "    'verbose': 0,\n",
    "    'random_state': seed,\n",
    "    'n_jobs': cpu_threads\n",
    "}"
   ]
  },
  {
   "cell_type": "markdown",
   "metadata": {},
   "source": [
    "# 5. Training"
   ]
  },
  {
   "cell_type": "markdown",
   "metadata": {},
   "source": [
    "## 5.1 Model selection"
   ]
  },
  {
   "cell_type": "markdown",
   "metadata": {
    "_cell_guid": "bd56cc59-9abd-fb1f-e5e1-211c48776863"
   },
   "source": [
    "### 5.1.1 CatBoost"
   ]
  },
  {
   "cell_type": "code",
   "execution_count": 22,
   "metadata": {
    "_cell_guid": "29893a22-aa92-b35d-881e-7ce907f3b3b2"
   },
   "outputs": [],
   "source": [
    "# Because it is with standard values alreads very good, so we won't use GridSearch"
   ]
  },
  {
   "cell_type": "markdown",
   "metadata": {},
   "source": [
    "### 5.1.2 Random Forest"
   ]
  },
  {
   "cell_type": "code",
   "execution_count": 23,
   "metadata": {},
   "outputs": [],
   "source": [
    "rf_grid = GridSearchCV(\n",
    "    estimator=RandomForestClassifier(**params_fixed_rf),\n",
    "    param_grid=params_grid_rf,\n",
    "    cv=skf_cv_iter,\n",
    "    n_jobs=cpu_threads,\n",
    "    scoring='accuracy',\n",
    "    iid=True\n",
    ")"
   ]
  },
  {
   "cell_type": "markdown",
   "metadata": {},
   "source": [
    "### 5.1.3 Extremely Randomized Trees"
   ]
  },
  {
   "cell_type": "code",
   "execution_count": 24,
   "metadata": {},
   "outputs": [],
   "source": [
    "et_grid = GridSearchCV(\n",
    "    estimator=ExtraTreesClassifier(**params_fixed_et),\n",
    "    param_grid=params_grid_et,\n",
    "    cv=skf_cv_iter,\n",
    "    n_jobs=cpu_threads,\n",
    "    scoring='accuracy',\n",
    "    iid=True\n",
    ")"
   ]
  },
  {
   "cell_type": "markdown",
   "metadata": {},
   "source": [
    "### 5.1.4 Logistic Regression"
   ]
  },
  {
   "cell_type": "code",
   "execution_count": 25,
   "metadata": {},
   "outputs": [],
   "source": [
    "lr_grid = GridSearchCV(\n",
    "    estimator=LogisticRegression(**params_fixed_lr),\n",
    "    param_grid=params_grid_lr,\n",
    "    cv=skf_cv_iter,\n",
    "    n_jobs=cpu_threads,\n",
    "    scoring='accuracy',\n",
    "    iid=True\n",
    ")"
   ]
  },
  {
   "cell_type": "markdown",
   "metadata": {
    "_cell_guid": "7e8d2a8d-a9f6-d416-74e7-4f5b711dcd98"
   },
   "source": [
    "## 5.2 Train the models"
   ]
  },
  {
   "cell_type": "code",
   "execution_count": 26,
   "metadata": {
    "_cell_guid": "02a54d08-b02a-a4df-6d74-540be7d243d8"
   },
   "outputs": [
    {
     "name": "stdout",
     "output_type": "stream",
     "text": [
      "CPU times: user 1min 42s, sys: 1.01 s, total: 1min 43s\n",
      "Wall time: 1h 15min 29s\n"
     ]
    },
    {
     "data": {
      "text/plain": [
       "GridSearchCV(cv=StratifiedKFold(n_splits=9, random_state=87076143, shuffle=True),\n",
       "       error_score='raise',\n",
       "       estimator=RandomForestClassifier(bootstrap=True, class_weight=None, criterion='gini',\n",
       "            max_depth=None, max_features='auto', max_leaf_nodes=None,\n",
       "            min_impurity_decrease=0.0, min_impurity_split=None,\n",
       "            min_samples_leaf=1, min_samples_split=2,\n",
       "            min_weight_fraction_leaf=0.0, n_estimators=10, n_jobs=6,\n",
       "            oob_score=False, random_state=87076143, verbose=0,\n",
       "            warm_start=False),\n",
       "       fit_params=None, iid=True, n_jobs=6,\n",
       "       param_grid={'max_features': [10, 4, 14, 7], 'max_depth': [3, 5, 8, 14], 'bootstrap': [True], 'n_estimators': [5, 10, 25, 50, 75, 100], 'oob_score': [True]},\n",
       "       pre_dispatch='2*n_jobs', refit=True, return_train_score='warn',\n",
       "       scoring='accuracy', verbose=0)"
      ]
     },
     "execution_count": 26,
     "metadata": {},
     "output_type": "execute_result"
    }
   ],
   "source": [
    "%%time\n",
    "rf_grid.fit(train_norm, train_label)"
   ]
  },
  {
   "cell_type": "code",
   "execution_count": 27,
   "metadata": {},
   "outputs": [
    {
     "name": "stdout",
     "output_type": "stream",
     "text": [
      "CPU times: user 46.6 s, sys: 468 ms, total: 47.1 s\n",
      "Wall time: 12min 25s\n"
     ]
    },
    {
     "data": {
      "text/plain": [
       "GridSearchCV(cv=StratifiedKFold(n_splits=9, random_state=87076143, shuffle=True),\n",
       "       error_score='raise',\n",
       "       estimator=ExtraTreesClassifier(bootstrap=False, class_weight=None, criterion='gini',\n",
       "           max_depth=None, max_features='auto', max_leaf_nodes=None,\n",
       "           min_impurity_decrease=0.0, min_impurity_split=None,\n",
       "           min_samples_leaf=1, min_samples_split=2,\n",
       "           min_weight_fraction_leaf=0.0, n_estimators=10, n_jobs=6,\n",
       "           oob_score=False, random_state=87076143, verbose=0,\n",
       "           warm_start=False),\n",
       "       fit_params=None, iid=True, n_jobs=6,\n",
       "       param_grid={'max_features': [10, 4, 14, 7], 'max_depth': [3, 5, 8, 14], 'bootstrap': [True], 'n_estimators': [5, 10, 25, 50, 75, 100], 'oob_score': [True]},\n",
       "       pre_dispatch='2*n_jobs', refit=True, return_train_score='warn',\n",
       "       scoring='accuracy', verbose=0)"
      ]
     },
     "execution_count": 27,
     "metadata": {},
     "output_type": "execute_result"
    }
   ],
   "source": [
    "%%time\n",
    "et_grid.fit(train_norm, train_label)"
   ]
  },
  {
   "cell_type": "code",
   "execution_count": 28,
   "metadata": {},
   "outputs": [
    {
     "name": "stdout",
     "output_type": "stream",
     "text": [
      "CPU times: user 5.9 s, sys: 124 ms, total: 6.02 s\n",
      "Wall time: 42 s\n"
     ]
    },
    {
     "data": {
      "text/plain": [
       "GridSearchCV(cv=StratifiedKFold(n_splits=9, random_state=87076143, shuffle=True),\n",
       "       error_score='raise',\n",
       "       estimator=LogisticRegression(C=1.0, class_weight=None, dual=False, fit_intercept=True,\n",
       "          intercept_scaling=1, max_iter=100, multi_class='ovr', n_jobs=6,\n",
       "          penalty='l2', random_state=87076143, solver='liblinear',\n",
       "          tol=0.0001, verbose=0, warm_start=False),\n",
       "       fit_params=None, iid=True, n_jobs=6,\n",
       "       param_grid={'C': [0.001, 0.01, 0.1, 1, 10, 100], 'solver': ['liblinear'], 'class_weight': [None, 'balanced'], 'penalty': ['l1', 'l2']},\n",
       "       pre_dispatch='2*n_jobs', refit=True, return_train_score='warn',\n",
       "       scoring='accuracy', verbose=0)"
      ]
     },
     "execution_count": 28,
     "metadata": {},
     "output_type": "execute_result"
    }
   ],
   "source": [
    "%%time\n",
    "lr_grid.fit(train_norm, train_label)"
   ]
  },
  {
   "cell_type": "markdown",
   "metadata": {},
   "source": [
    "%%time\n",
    "et_grid.fit(train_norm, train_label)"
   ]
  },
  {
   "cell_type": "markdown",
   "metadata": {
    "_cell_guid": "3868397c-30ed-a870-9c61-30b5d5ebdce7"
   },
   "source": [
    "# 6. Evaluation\n",
    "\n",
    "## 6.1 Model performance"
   ]
  },
  {
   "cell_type": "code",
   "execution_count": 29,
   "metadata": {
    "_cell_guid": "c4e9a0a3-f637-5568-e92c-07c0548cd89d"
   },
   "outputs": [
    {
     "name": "stdout",
     "output_type": "stream",
     "text": [
      "=== Random Forest ===\n",
      "Best accuracy obtained: 0.689135279810305\n",
      "Parameters:\n",
      "\tmax_features: 4\n",
      "\tmax_depth: 14\n",
      "\tbootstrap: True\n",
      "\tn_estimators: 100\n",
      "\toob_score: True\n"
     ]
    }
   ],
   "source": [
    "print(\"=== Random Forest ===\")\n",
    "print(\"Best accuracy obtained: {0}\".format(rf_grid.best_score_))\n",
    "print(\"Parameters:\")\n",
    "for key, value in rf_grid.best_params_.items():\n",
    "    print(\"\\t{}: {}\".format(key, value))\n",
    "model_rf = rf_grid.best_estimator_"
   ]
  },
  {
   "cell_type": "code",
   "execution_count": 30,
   "metadata": {},
   "outputs": [
    {
     "name": "stdout",
     "output_type": "stream",
     "text": [
      "=== Extremely Randomized Trees ===\n",
      "Best accuracy obtained: 0.6865147614056155\n",
      "Parameters:\n",
      "\tmax_features: 14\n",
      "\tmax_depth: 14\n",
      "\tbootstrap: True\n",
      "\tn_estimators: 100\n",
      "\toob_score: True\n"
     ]
    }
   ],
   "source": [
    "print(\"=== Extremely Randomized Trees ===\")\n",
    "print(\"Best accuracy obtained: {0}\".format(et_grid.best_score_))\n",
    "print(\"Parameters:\")\n",
    "for key, value in et_grid.best_params_.items():\n",
    "    print(\"\\t{}: {}\".format(key, value))\n",
    "model_et = et_grid.best_estimator_"
   ]
  },
  {
   "cell_type": "code",
   "execution_count": 31,
   "metadata": {},
   "outputs": [
    {
     "name": "stdout",
     "output_type": "stream",
     "text": [
      "=== Logistic Regression ===\n",
      "Best accuracy obtained: 0.6938318593977387\n",
      "Parameters:\n",
      "\tpenalty: l2\n",
      "\tsolver: liblinear\n",
      "\tclass_weight: None\n",
      "\tC: 0.01\n"
     ]
    }
   ],
   "source": [
    "print(\"=== Logistic Regression ===\")\n",
    "print(\"Best accuracy obtained: {0}\".format(lr_grid.best_score_))\n",
    "print(\"Parameters:\")\n",
    "for key, value in lr_grid.best_params_.items():\n",
    "    print(\"\\t{}: {}\".format(key, value))\n",
    "model_lr = lr_grid.best_estimator_"
   ]
  },
  {
   "cell_type": "markdown",
   "metadata": {},
   "source": [
    "## 6.2 Model comparison"
   ]
  },
  {
   "cell_type": "code",
   "execution_count": 32,
   "metadata": {},
   "outputs": [
    {
     "data": {
      "image/png": "[encoded data removed]",
      "text/plain": [
       "<matplotlib.figure.Figure at 0x7f4d82871208>"
      ]
     },
     "metadata": {},
     "output_type": "display_data"
    }
   ],
   "source": [
    "train_survived_rf = pd.Series(model_rf.predict(train_norm), name=\"RandForest\")\n",
    "train_survived_et = pd.Series(model_et.predict(train_norm), name=\"ExtrTrees\")\n",
    "train_survived_lr = pd.Series(model_lr.predict(train_norm), name=\"LogisRigr\")\n",
    "\n",
    "# Concatenate all classifier results\n",
    "ensemble_results = pd.concat([train_survived_rf, train_survived_et, train_survived_lr], axis=1)\n",
    "\n",
    "g = sns.heatmap(ensemble_results.corr(), annot=True)"
   ]
  },
  {
   "cell_type": "markdown",
   "metadata": {},
   "source": [
    "# 7. Ensemble Modeling"
   ]
  },
  {
   "cell_type": "code",
   "execution_count": 37,
   "metadata": {},
   "outputs": [],
   "source": [
    "estimators = [('lr', model_lr), ('rf', model_rf), ('et', model_et)]\n",
    "ensemble_cl = VotingClassifier(estimators=estimators, voting='soft', n_jobs=cpu_threads)\n",
    "ensemble_cl = ensemble_cl.fit(train_norm, train_label)"
   ]
  },
  {
   "cell_type": "markdown",
   "metadata": {
    "_cell_guid": "598cfdec-2804-0312-e69e-2ea779f045bc"
   },
   "source": [
    "# 8. Test\n",
    "\n",
    " \n",
    "## 7.1 Individual Models"
   ]
  },
  {
   "cell_type": "code",
   "execution_count": 39,
   "metadata": {
    "_cell_guid": "25cb37ca-225b-2917-00a8-5c08708ccf1d"
   },
   "outputs": [
    {
     "name": "stdout",
     "output_type": "stream",
     "text": [
      "Random Forest: 68.8\n",
      "Extra Trees: 68.8\n",
      "Logistic Regession: 68.8\n"
     ]
    }
   ],
   "source": [
    "if test_mode:\n",
    "    pred_rf = model_rf.predict(test_norm)\n",
    "    score_rf = np.mean(pred_rf == test_label)\n",
    "    print(\"Random Forest: {:3.1f}\".format(score_rf * 100))\n",
    "\n",
    "    pred_et = model_et.predict(test_norm)\n",
    "    score_et = np.mean(pred_et == test_label)\n",
    "    print(\"Extra Trees: {:3.1f}\".format(score_et * 100))\n",
    "\n",
    "    pred_lr = model_lr.predict(test_norm)\n",
    "    score_lr = np.mean(pred_lr == test_label)\n",
    "    print(\"Logistic Regession: {:3.1f}\".format(score_lr * 100))"
   ]
  },
  {
   "cell_type": "markdown",
   "metadata": {},
   "source": [
    "## 7.2 Ensemble"
   ]
  },
  {
   "cell_type": "code",
   "execution_count": 40,
   "metadata": {},
   "outputs": [
    {
     "name": "stdout",
     "output_type": "stream",
     "text": [
      "Logistic Regession: 69.1\n"
     ]
    }
   ],
   "source": [
    "if test_mode:\n",
    "    pred_en = ensemble_cl.predict(test_norm)\n",
    "    score_en = np.mean(pred_en == test_label)\n",
    "    print(\"Logistic Regession: {:3.1f}\".format(score_en * 100))"
   ]
  }
 ],
 "metadata": {
  "_change_revision": 56,
  "_is_fork": false,
  "kernelspec": {
   "display_name": "Python 3",
   "language": "python",
   "name": "python3"
  },
  "language_info": {
   "codemirror_mode": {
    "name": "ipython",
    "version": 3
   },
   "file_extension": ".py",
   "mimetype": "text/x-python",
   "name": "python",
   "nbconvert_exporter": "python",
   "pygments_lexer": "ipython3",
   "version": "3.6.6"
  }
 },
 "nbformat": 4,
 "nbformat_minor": 1
}
