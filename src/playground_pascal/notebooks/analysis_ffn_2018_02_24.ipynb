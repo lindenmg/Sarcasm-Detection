{
 "cells": [
  {
   "cell_type": "code",
   "execution_count": 315,
   "metadata": {},
   "source": [
    "import os\n",
    "\n",
    "os.chdir(\"/Users/pascalweiss/dev/python/dl_project_gl_pw/\")\n",
    "from src.tools.mongo import collection_to_df\n",
    "from src.tools.config import Config\n",
    "import pandas as pd\n",
    "from pymongo import MongoClient\n",
    "import numpy as np\n",
    "import math\n",
    "from plotly.offline import init_notebook_mode, iplot\n",
    "from plotly import tools, graph_objs as go\n",
    "\n"
   ],
   "outputs": []
  },
  {
   "cell_type": "code",
   "execution_count": 233,
   "metadata": {},
   "source": [
    "db = 'session_db'\n",
    "\n",
    "port = Config.logging.port\n",
    "host = 'localhost'\n",
    "\n",
    "client = MongoClient(host, port)\n",
    "df_log = collection_to_df('session_db', 'log', 'localhost', Config.logging.port)\n",
    "df_args = collection_to_df('session_db', 'session_args', 'localhost', Config.logging.port,\n",
    "                           filter={'_id': {'$gt': '5a9067649233a2051495fea9'}},\n",
    "                           flatten=True)\n",
    "\n",
    "df_merge = pd.merge(df_args, df_log, left_on='_id', right_on='_session_id', how='inner')\n",
    "df_base = df_merge[['_session_id', 'data_factory.args.pp_params.vectorization.max_features',\n",
    "                    'data_factory.args.pp_params.vectorization.min_df',\n",
    "                    'data_factory.args.pp_params.vectorization.ngram_range',\n",
    "                    'data_factory.args.pp_params.vectorization.tfidf',\n",
    "                    'model.args.post_layer_size', 'model.args.reply_layer_size',\n",
    "                    'fold', 'epoch', 'val_acc', 'val_loss', 'train_acc', 'train_loss']]\n",
    "\n",
    "df_base.columns = ['_session_id', 'pp_max_features', 'pp_min_df', 'pp_ngram_range', 'pp_tfidf', 'post_layer_size',\n",
    "                   'reply_layer_size', 'fold', 'epoch', 'val_acc', 'val_loss', 'train_acc', 'train_loss']\n",
    "\n",
    "feature_cols = ['pp_max_features', 'pp_min_df', 'pp_ngram_range', 'pp_tfidf',\n",
    "                'post_layer_size', 'reply_layer_size']\n",
    "\n",
    "# make str of every hyperparam\n",
    "df = df_base.copy(deep=True)\n",
    "for col in feature_cols + ['_session_id']:\n",
    "    df[col] = df[col].map(lambda el: str(el))\n",
    "\n",
    "df = df.sort_values('val_acc', ascending=False)\n",
    "df.head(5)"
   ],
   "outputs": []
  },
  {
   "cell_type": "code",
   "execution_count": 283,
   "metadata": {},
   "source": [
    "def plot_subplots(df, session_id, fold, col, n_cols=1):\n",
    "    rows = math.ceil(len(session_id) / n_cols)\n",
    "    init_notebook_mode(connected=True)\n",
    "\n",
    "    fig = tools.make_subplots(rows=rows, cols=n_cols)\n",
    "    for i, s_id in enumerate(session_id):\n",
    "        r = (i // n_cols) + 1\n",
    "        c = (len(session_id) % n_cols) + 1\n",
    "        df_sub = df[(df._session_id == s_id) & (df.fold == fold)]\n",
    "        df_sub = df_sub.sort_values('epoch')\n",
    "        trace = go.Scatter(\n",
    "            x=df_sub.epoch,\n",
    "            y=df_sub[col].astype(float))\n",
    "        fig.append_trace(trace, row=r, col=c)\n",
    "    iplot(fig)\n",
    "\n",
    "\n",
    "def plot_single(df, session_id, fold, col):\n",
    "    init_notebook_mode(connected=True)\n",
    "    fig = tools.make_subplots(rows=1, cols=1)\n",
    "    for i, s_id in enumerate(session_id):\n",
    "        df_sub = df[(df._session_id == s_id) & (df.fold == fold)]\n",
    "        df_sub = df_sub.sort_values('epoch')\n",
    "        trace = go.Scatter(\n",
    "            x=df_sub.epoch,\n",
    "            y=df_sub[col].astype(float),\n",
    "            name=s_id\n",
    "        )\n",
    "        fig.append_trace(trace, row=1, col=1)\n",
    "    iplot(fig)"
   ],
   "outputs": []
  },
  {
   "cell_type": "markdown",
   "metadata": {},
   "source": [
    "# Number of training sessions"
   ]
  },
  {
   "cell_type": "code",
   "execution_count": 130,
   "metadata": {},
   "source": [
    "df_base._session_id.unique().shape[0]"
   ],
   "outputs": []
  },
  {
   "cell_type": "markdown",
   "metadata": {},
   "source": [
    "# Varied Hyperparams\n",
    "The hyperparameters that were varied in this training session"
   ]
  },
  {
   "cell_type": "code",
   "execution_count": 131,
   "metadata": {},
   "source": [
    "varied_hyperparams = {k: df[k].unique() for k in feature_cols}\n",
    "varied_hyperparams"
   ],
   "outputs": []
  },
  {
   "cell_type": "markdown",
   "metadata": {},
   "source": [
    "# random"
   ]
  },
  {
   "cell_type": "code",
   "execution_count": 316,
   "metadata": {},
   "source": [
    "session_ids = df._session_id.unique().tolist()"
   ],
   "outputs": []
  },
  {
   "cell_type": "markdown",
   "metadata": {},
   "source": [
    "### Fold 1"
   ]
  },
  {
   "cell_type": "code",
   "execution_count": 318,
   "metadata": {},
   "source": [
    "plot_single(df, session_ids, np.int64(1), col='val_acc')"
   ],
   "outputs": []
  },
  {
   "cell_type": "markdown",
   "metadata": {},
   "source": [
    "### Fold 2"
   ]
  },
  {
   "cell_type": "code",
   "execution_count": 317,
   "metadata": {},
   "source": [
    "plot_single(df, session_ids, np.int64(2), col='val_acc')"
   ],
   "outputs": []
  },
  {
   "cell_type": "markdown",
   "metadata": {},
   "source": [
    "# By highest val_acc"
   ]
  },
  {
   "cell_type": "code",
   "execution_count": 291,
   "metadata": {},
   "source": [
    "winners = df.groupby('_session_id').val_acc.max().sort_values(ascending=False).head(8)\n",
    "winners"
   ],
   "outputs": []
  },
  {
   "cell_type": "code",
   "execution_count": 301,
   "metadata": {},
   "source": [
    "plot_single(df, winners.index.tolist(), np.int64(2), col='val_acc')"
   ],
   "outputs": []
  },
  {
   "cell_type": "code",
   "execution_count": 326,
   "metadata": {},
   "source": [
    "df[df._session_id == '5a915c659233a29441341616']"
   ],
   "outputs": []
  }
 ],
 "metadata": {
  "kernelspec": {
   "display_name": "venv353",
   "language": "python",
   "name": "venv353"
  },
  "language_info": {
   "codemirror_mode": {
    "name": "ipython",
    "version": 3
   },
   "file_extension": ".py",
   "mimetype": "text/x-python",
   "name": "python",
   "nbconvert_exporter": "python",
   "pygments_lexer": "ipython3",
   "version": "3.5.3"
  }
 },
 "nbformat": 4,
 "nbformat_minor": 2
}
