{
 "cells": [
  {
   "cell_type": "code",
   "execution_count": 5,
   "metadata": {},
   "source": [
    "import os\n",
    "\n",
    "os.chdir('/Users/pascalweiss/scripts/cdpath/dev/python/dl_project_gl_pw')\n",
    "# Add this to the beginning of your main\n",
    "# Now the other imports\n",
    "from src.tools.queries import *\n",
    "from src.tools.helpers import *\n"
   ],
   "outputs": []
  },
  {
   "cell_type": "code",
   "execution_count": 2,
   "metadata": {},
   "source": [
    "dir_hyper = Config.path.tfidf_hyperparameter_folder\n",
    "dir_data = join(Config.path.cache_folder, 'preprocessing', 'pp_data')\n",
    "dir_params = join(Config.path.cache_folder, 'preprocessing', 'pp_step_params')\n",
    "dir_mappings = join(Config.path.cache_folder, 'preprocessing', 'pp_step_mapping')\n",
    "\n",
    "listdir(dir_hyper)\n",
    "\n"
   ],
   "outputs": []
  },
  {
   "cell_type": "code",
   "execution_count": 7,
   "metadata": {},
   "source": [
    "\n",
    "keyslists = [\n",
    "    ['data_factory', 'args', 'pp_params', 'tfidf', 'analyzer']\n",
    "]\n",
    "values = ['char']\n",
    "df = query_preprocessing_params(keyslists, values, dir_hyper, dir_mappings, dir_data, dir_params)\n",
    "df"
   ],
   "outputs": []
  },
  {
   "cell_type": "code",
   "execution_count": 10,
   "metadata": {},
   "source": [
    "df['data'][8]"
   ],
   "outputs": []
  },
  {
   "cell_type": "code",
   "execution_count": 11,
   "metadata": {},
   "source": [
    "load_from_disk(join(dir_data, 'tfidf_fact_vocab_933ef320555c374377a75a55982da65ef5e47cec.pp_cache'))"
   ],
   "outputs": []
  }
 ],
 "metadata": {
  "kernelspec": {
   "display_name": "venv353",
   "language": "python",
   "name": "venv353"
  },
  "language_info": {
   "codemirror_mode": {
    "name": "ipython",
    "version": 3
   },
   "file_extension": ".py",
   "mimetype": "text/x-python",
   "name": "python",
   "nbconvert_exporter": "python",
   "pygments_lexer": "ipython3",
   "version": "3.5.3"
  }
 },
 "nbformat": 4,
 "nbformat_minor": 2
}
